{
 "cells": [
  {
   "cell_type": "code",
   "execution_count": 21,
   "metadata": {},
   "outputs": [],
   "source": [
    "# Librerias necesarias\n",
    "import numpy as np\n",
    "import pandas as pd\n",
    "import matplotlib.pylab as pt\n",
    "from sklearn import metrics\n",
    "import seaborn as sns\n",
    "import random\n",
    "from sklearn.model_selection import train_test_split\n",
    "from sklearn.naive_bayes import GaussianNB\n",
    "from sklearn.tree import DecisionTreeClassifier\n",
    "from sklearn.ensemble import RandomForestClassifier\n",
    "from sklearn.metrics import f1_score\n",
    "from sklearn import svm\n",
    "%matplotlib inline"
   ]
  },
  {
   "cell_type": "code",
   "execution_count": 22,
   "metadata": {},
   "outputs": [],
   "source": [
    "# Toma un conjunto de datos y lo separa en conjunto de datos positivos y conjunto de datos negtivos\n",
    "def split_positive_negative(dataframe):\n",
    "    positive_df = dataframe[dataframe['Dx:Cancer'] == 1]\n",
    "    negative_df = dataframe[dataframe['Dx:Cancer'] == 0]\n",
    "    return positive_df, negative_df\n",
    "\n",
    "# Toma un conjunto de datos y lo separa en x (variable cancer) e y (resto de variables), y lo convierte a np.array\n",
    "def split_xy(dataframe):\n",
    "    df_x = dataframe.copy()\n",
    "    df_x.pop(\"Dx:Cancer\")\n",
    "    y = dataframe[\"Dx:Cancer\"].to_numpy()\n",
    "    x = df_x.to_numpy()\n",
    "    return x, y"
   ]
  },
  {
   "cell_type": "markdown",
   "metadata": {},
   "source": [
    "## # Random Forest Classifier\n",
    "\n",
    "https://scikit-learn.org/stable/modules/generated/sklearn.ensemble.RandomForestClassifier.html\n"
   ]
  },
  {
   "cell_type": "markdown",
   "metadata": {},
   "source": [
    "### CROSS VALIDATION"
   ]
  },
  {
   "cell_type": "code",
   "execution_count": 23,
   "metadata": {},
   "outputs": [],
   "source": [
    "from sklearn.model_selection import cross_val_score\n",
    "\n",
    "num_folds = 10\n",
    "\n",
    "# Cogemos el conjunto de datos bueno (clases balanceadas)\n",
    "df = pd.read_excel(\"datos.xlsx\")\n",
    "positive_df, negative_df = split_positive_negative(df)\n",
    "for i in range(int(negative_df.shape[0]/positive_df.shape[0])):\n",
    "    df = pd.concat([df, positive_df])\n",
    "x, y = split_xy(df)\n",
    "# Creamos el modelo de random forest\n",
    "model = RandomForestClassifier(n_estimators=100, max_features='auto')\n",
    "# Lo entrenamos y evaluamos mediante cross validation\n",
    "scores = cross_val_score(model, x, y, cv=num_folds, scoring='f1')\n",
    "scores = np.mean(scores)"
   ]
  },
  {
   "cell_type": "markdown",
   "metadata": {},
   "source": [
    "### CROSS VALIDATION PARA ELEGIR HIPERPARAMETROS DEL MODELO"
   ]
  },
  {
   "cell_type": "markdown",
   "metadata": {},
   "source": [
    "Vamos a probar las siguientes combinaciones de hiperparametros:\n",
    "- Numero de arboles: 100, 500 o 1000\n",
    "- Criterio: gini o entropia\n",
    "- Numero maximo de variables empleadas en cada arbol de decision: auto, raiz(numero de variables) o log2(numero de variables"
   ]
  },
  {
   "cell_type": "code",
   "execution_count": 24,
   "metadata": {},
   "outputs": [],
   "source": [
    "num_trees = [100, 500, 1000]\n",
    "criterion = ['gini', 'entropy']\n",
    "max_features = ['auto', 'sqrt', 'log2']\n",
    "\n",
    "num_folds = 10"
   ]
  },
  {
   "cell_type": "code",
   "execution_count": 25,
   "metadata": {},
   "outputs": [],
   "source": [
    "df = pd.read_excel(\"datos.xlsx\")\n",
    "positive_df, negative_df = split_positive_negative(df)\n",
    "for i in range(int(negative_df.shape[0]/positive_df.shape[0])):\n",
    "    df = pd.concat([df, positive_df])\n",
    "x, y = split_xy(df)"
   ]
  },
  {
   "cell_type": "code",
   "execution_count": 26,
   "metadata": {},
   "outputs": [
    {
     "name": "stdout",
     "output_type": "stream",
     "text": [
      "F1 score del mejor modelo: 0.9986485869515592\n",
      "Numero de arboles empleados: 100\n",
      "Criterio de corte empleado: entropy\n",
      "Numero maximo de variables por arbol: log2\n"
     ]
    }
   ],
   "source": [
    "best_f1 = 0.0\n",
    "for trees in num_trees:\n",
    "    for crit in criterion:\n",
    "        for max_feat in max_features:\n",
    "            model = RandomForestClassifier(n_estimators=trees, criterion=crit, max_features=max_feat)\n",
    "            scores = cross_val_score(model, x, y, cv=num_folds, scoring='f1')\n",
    "            f1 = np.mean(scores)\n",
    "            if f1 > best_f1:\n",
    "                best_f1 = f1\n",
    "                best_num_trees = trees\n",
    "                best_criterion = crit\n",
    "                best_max_feat = max_feat\n",
    "print(\"F1 score del mejor modelo: \" + str(best_f1))\n",
    "print(\"Numero de arboles empleados: \" + str(best_num_trees))\n",
    "print(\"Criterio de corte empleado: \" + str(best_criterion))\n",
    "print(\"Numero maximo de variables por arbol: \" + str(best_max_feat))"
   ]
  },
  {
   "cell_type": "code",
   "execution_count": null,
   "metadata": {},
   "outputs": [],
   "source": []
  }
 ],
 "metadata": {
  "kernelspec": {
   "display_name": "Python 3",
   "language": "python",
   "name": "python3"
  },
  "language_info": {
   "codemirror_mode": {
    "name": "ipython",
    "version": 3
   },
   "file_extension": ".py",
   "mimetype": "text/x-python",
   "name": "python",
   "nbconvert_exporter": "python",
   "pygments_lexer": "ipython3",
   "version": "3.8.5"
  }
 },
 "nbformat": 4,
 "nbformat_minor": 4
}
